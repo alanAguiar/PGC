{
 "cells": [
  {
   "cell_type": "code",
   "execution_count": 1,
   "metadata": {},
   "outputs": [],
   "source": [
    "from sklearn.neighbors import KNeighborsClassifier\n",
    "from sklearn.svm import SVC\n",
    "from sklearn.model_selection import train_test_split\n",
    "from sklearn import datasets\n",
    "import numpy as np\n",
    "import scipy.stats\n",
    "import copy\n",
    "import random"
   ]
  },
  {
   "cell_type": "code",
   "execution_count": 2,
   "metadata": {},
   "outputs": [],
   "source": [
    "class Chromossome:\n",
    "    def __init__(self, algorithm, **hyperparemeter_range):\n",
    "        self.hyperparemeter_range = hyperparemeter_range\n",
    "        self.algorithm = algorithm\n",
    "        self.mutate()\n",
    "        \n",
    "    def fit(self, X, y):\n",
    "        self.classifier.fit(X, y)\n",
    "        \n",
    "    def predict(self, X):\n",
    "        return self.classifier.predict(X)\n",
    "    \n",
    "    def mutate(self):\n",
    "        param = {}\n",
    "        for hyperparameter, h_range in self.hyperparemeter_range.items():\n",
    "            if isinstance(h_range[0], str):\n",
    "                param[hyperparameter] = random.choice(h_range)\n",
    "            elif isinstance(h_range[0], float):\n",
    "                param[hyperparameter] = random.uniform(h_range[0], h_range[1])\n",
    "            else:\n",
    "                param[hyperparameter] = random.randint(h_range[0], h_range[1])\n",
    "        self.classifier = self.algorithm(**param)"
   ]
  },
  {
   "cell_type": "code",
   "execution_count": 3,
   "metadata": {},
   "outputs": [],
   "source": [
    "class DiversityEnsembleClassifier:\n",
    "    def __init__(self, algorithms, population_size = 100, max_epochs = 100, random_state=None):\n",
    "        self.population_size = population_size\n",
    "        self.max_epochs = max_epochs\n",
    "        self.population = []\n",
    "        \n",
    "        for algorithm, hyperparameters in algorithms.items():\n",
    "            for i in range(0, population_size//len(algorithms.keys())):\n",
    "                self.population.append(Chromossome(algorithm, **hyperparameters))\n",
    "        self.population.append(Chromossome(algorithm, **hyperparameters))\n",
    "        \n",
    "    def fit(self, X, y):\n",
    "        print('Running epoch ', end='')\n",
    "        for epoch in range(self.max_epochs):\n",
    "            print(epoch, end='...')\n",
    "            X_train, X_val, y_train, y_val = train_test_split(X, y, test_size=0.1, random_state=epoch)\n",
    "            predictions = np.empty([2*self.population_size, y_val.shape[0]])\n",
    "            \n",
    "            for i in range(0, self.population_size):\n",
    "                new_chromossome = copy.deepcopy(self.population[i])\n",
    "                new_chromossome.mutate()\n",
    "                self.population.append(new_chromossome)\n",
    "                \n",
    "            for i in range(2*self.population_size):\n",
    "                chromossome = self.population[i]\n",
    "                chromossome.fit(X_train, y_train)\n",
    "                predictions[i] = np.logical_and(chromossome.predict(X_val), y_val)\n",
    "                       \n",
    "            distances = np.zeros(2*self.population_size)\n",
    "            target_chromossome = np.argmax(predictions.sum(axis=1))\n",
    "            new_population = [self.population[target_chromossome]]            \n",
    "            \n",
    "            for i in range(0, self.population_size-1):\n",
    "                distances[target_chromossome] = float('-inf')\n",
    "                distances += np.logical_xor(predictions, predictions[target_chromossome]).sum(axis=1)\n",
    "                target_chromossome = np.argmax(distances)\n",
    "                new_population.append(self.population[target_chromossome])\n",
    "                \n",
    "            self.population =new_population\n",
    "                        \n",
    "    def predict(self, X):\n",
    "        predictions = np.empty([self.population_size, X.shape[0]])\n",
    "        for i in range(0, self.population_size):\n",
    "            predictions[i] = self.population[i].predict(X)\n",
    "        return scipy.stats.mode(predictions, axis=0).mode\n",
    "        "
   ]
  },
  {
   "cell_type": "code",
   "execution_count": 4,
   "metadata": {},
   "outputs": [],
   "source": [
    "wine = datasets.load_wine()"
   ]
  },
  {
   "cell_type": "code",
   "execution_count": null,
   "metadata": {},
   "outputs": [],
   "source": [
    "X_train, X_test, y_train, y_test = train_test_split(wine.data, wine.target, test_size=0.2)\n",
    "alg = {\n",
    "            KNeighborsClassifier: {'n_neighbors':[1, 100]},\n",
    "            SVC: {'kernel' : ['linear', 'poly', 'rbf', 'sigmoid'], \n",
    "                  'degree' : [0, 5]\n",
    "                  }\n",
    "      }\n",
    "dec = DiversityEnsembleClassifier(alg, population_size=100, max_epochs=500)\n",
    "dec.fit(X_train,  y_train)\n",
    "print('Acuracy', np.logical_and(dec.predict(X_test), y_test).sum()/y_test.shape[0])\n"
   ]
  },
  {
   "cell_type": "code",
   "execution_count": null,
   "metadata": {},
   "outputs": [],
   "source": [
    "print([x.classifier for x in dec.population])"
   ]
  },
  {
   "cell_type": "code",
   "execution_count": null,
   "metadata": {},
   "outputs": [],
   "source": []
  }
 ],
 "metadata": {
  "kernelspec": {
   "display_name": "Python 3",
   "language": "python",
   "name": "python3"
  },
  "language_info": {
   "codemirror_mode": {
    "name": "ipython",
    "version": 3
   },
   "file_extension": ".py",
   "mimetype": "text/x-python",
   "name": "python",
   "nbconvert_exporter": "python",
   "pygments_lexer": "ipython3",
   "version": "3.6.4"
  }
 },
 "nbformat": 4,
 "nbformat_minor": 2
}
