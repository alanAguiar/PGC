{
 "cells": [
  {
   "cell_type": "code",
   "execution_count": 1,
   "metadata": {},
   "outputs": [],
   "source": [
    "from sklearn.neighbors import KNeighborsClassifier\n",
    "from sklearn.discriminant_analysis import LinearDiscriminantAnalysis\n",
    "from sklearn.naive_bayes import GaussianNB\n",
    "from sklearn.ensemble import RandomForestClassifier\n",
    "from sklearn.ensemble import AdaBoostClassifier\n",
    "from sklearn.svm import SVC\n",
    "from sklearn.tree import DecisionTreeClassifier\n",
    "from sklearn.model_selection import train_test_split\n",
    "from sklearn import datasets\n",
    "from sklearn.metrics import accuracy_score\n",
    "from sklearn.metrics import f1_score\n",
    "from sklearn.metrics import roc_auc_score\n",
    "from sklearn.metrics import precision_score\n",
    "from sklearn.metrics import recall_score\n",
    "import pandas as pd"
   ]
  },
  {
   "cell_type": "code",
   "execution_count": 2,
   "metadata": {},
   "outputs": [],
   "source": [
    "from DiversityEnsembleClassifier import DiversityEnsembleClassifier"
   ]
  },
  {
   "cell_type": "markdown",
   "metadata": {},
   "source": [
    "### Loading datasets"
   ]
  },
  {
   "cell_type": "code",
   "execution_count": 3,
   "metadata": {},
   "outputs": [],
   "source": [
    "breast = datasets.load_breast_cancer()\n",
    "iris   = datasets.load_iris()\n",
    "wine   = datasets.load_wine()\n",
    "yeast  = pd.read_csv('https://archive.ics.uci.edu/ml/machine-learning-databases/yeast/yeast.data', header=None, delim_whitespace=True)\n",
    "spam   = pd.read_csv('https://archive.ics.uci.edu/ml/machine-learning-databases/spambase/spambase.data', header=None)"
   ]
  },
  {
   "cell_type": "markdown",
   "metadata": {},
   "source": [
    "<h3>Testing method</h3>"
   ]
  },
  {
   "cell_type": "code",
   "execution_count": null,
   "metadata": {},
   "outputs": [],
   "source": [
    "def compare_results(data, target):\n",
    "    X_train, X_test, y_train, y_test = train_test_split(data, target, test_size=0.2, random_state=42)\n",
    "\n",
    "    n_samples = ((X_train.shape[0] * 4) // 5)-1\n",
    "    alg = {\n",
    "                KNeighborsClassifier: {'n_neighbors':[1, n_samples]},\n",
    "                SVC: {'C':[1, 1000],\n",
    "                      'gamma':[0.001, 0.0001]\n",
    "                      },\n",
    "                DecisionTreeClassifier: {'min_samples_leaf':[1, n_samples], 'max_depth':[1, n_samples]},\n",
    "                RandomForestClassifier: {'min_samples_leaf':[1, n_samples], 'max_depth':[1, n_samples],\n",
    "                                         'n_estimators':[100, 100]},\n",
    "                GaussianNB: {},\n",
    "                LinearDiscriminantAnalysis: {}\n",
    "          }\n",
    "    dec = DiversityEnsembleClassifier(alg, population_size=25, max_epochs=100, random_state=42, njobs=-1)\n",
    "    dec.fit(X_train,  y_train)\n",
    "    dec_predict = dec.predict(X_test)\n",
    "\n",
    "    rf = RandomForestClassifier(n_estimators=1000)\n",
    "    rf.fit(X_train, y_train)\n",
    "    rf_predict = rf.predict(X_test)\n",
    "\n",
    "    ada = AdaBoostClassifier(n_estimators=1000)\n",
    "    ada.fit(X_train, y_train)\n",
    "    ada_predict = ada.predict(X_test)\n",
    "    print()\n",
    "    print('#'*60)\n",
    "    print('Results')\n",
    "    print('#'*60)\n",
    "    print()\n",
    "    \n",
    "    print('-'*60)\n",
    "    print('Diversity-based Ensemble Classifier')\n",
    "    print('-'*60)\n",
    "    print('Accuracy :', accuracy_score(y_test, dec_predict))\n",
    "    try: print('F1-score :', f1_score(y_test, dec_predict))\n",
    "    except: pass\n",
    "    try: print('Precision:', precision_score(y_test, dec_predict))\n",
    "    except: pass\n",
    "    try: print('Recall   :', recall_score(y_test, dec_predict))\n",
    "    except: pass\n",
    "    try: print('ROC AUC  :', roc_auc_score(y_test, dec_predict))\n",
    "    except: pass\n",
    "\n",
    "    print('-'*60)\n",
    "    print('Random Forest Classifier')\n",
    "    print('-'*60)\n",
    "    print('Accuracy :', accuracy_score(y_test, rf_predict))\n",
    "    try: print('F1-score :', f1_score(y_test, rf_predict))\n",
    "    except: pass\n",
    "    try: print('Precision:', precision_score(y_test, rf_predict))\n",
    "    except: pass\n",
    "    try: print('Recall   :', recall_score(y_test, rf_predict))\n",
    "    except: pass\n",
    "    try: print('ROC AUC  :', roc_auc_score(y_test, rf_predict))\n",
    "    except: pass\n",
    "\n",
    "    print('-'*60)\n",
    "    print('Ada Boost Classifer')\n",
    "    print('-'*60)\n",
    "    print('Accuracy :', accuracy_score(y_test, ada_predict))\n",
    "    try: print('F1-score :', f1_score(y_test, ada_predict))\n",
    "    except: pass\n",
    "    try: print('Precision:', precision_score(y_test, ada_predict))\n",
    "    except: pass\n",
    "    try: print('Recall   :', recall_score(y_test, ada_predict))\n",
    "    except: pass\n",
    "    try: print('ROC AUC  :', roc_auc_score(y_test, ada_predict))\n",
    "    except: pass\n"
   ]
  },
  {
   "cell_type": "code",
   "execution_count": null,
   "metadata": {
    "scrolled": true
   },
   "outputs": [
    {
     "name": "stdout",
     "output_type": "stream",
     "text": [
      "Starting genetic algorithm...\n",
      "------------------------------------------------------------\n",
      "Epoch 0\n",
      "------------------------------------------------------------\n",
      "Generating offspring...done in 15 ms\n",
      "Fitting and predicting population..."
     ]
    }
   ],
   "source": [
    "compare_results(data=breast.data, target=breast.target)"
   ]
  },
  {
   "cell_type": "code",
   "execution_count": null,
   "metadata": {
    "scrolled": true
   },
   "outputs": [],
   "source": [
    "compare_results(data=iris.data, target=iris.target)"
   ]
  },
  {
   "cell_type": "code",
   "execution_count": null,
   "metadata": {},
   "outputs": [],
   "source": [
    "compare_results(data=wine.data, target=wine.target)"
   ]
  },
  {
   "cell_type": "code",
   "execution_count": null,
   "metadata": {},
   "outputs": [],
   "source": [
    "yeast.iloc[:, -1].values"
   ]
  },
  {
   "cell_type": "code",
   "execution_count": null,
   "metadata": {
    "scrolled": true
   },
   "outputs": [],
   "source": [
    "compare_results(data=yeast.iloc[:, 1:-1].values, target=yeast.iloc[:, -1].values)"
   ]
  },
  {
   "cell_type": "code",
   "execution_count": null,
   "metadata": {
    "scrolled": true
   },
   "outputs": [],
   "source": [
    "compare_results(data=spam.iloc[:, :-1].values, target=spam.iloc[:, -1].values)"
   ]
  },
  {
   "cell_type": "code",
   "execution_count": null,
   "metadata": {},
   "outputs": [],
   "source": []
  }
 ],
 "metadata": {
  "kernelspec": {
   "display_name": "Python 3",
   "language": "python",
   "name": "python3"
  },
  "language_info": {
   "codemirror_mode": {
    "name": "ipython",
    "version": 3
   },
   "file_extension": ".py",
   "mimetype": "text/x-python",
   "name": "python",
   "nbconvert_exporter": "python",
   "pygments_lexer": "ipython3",
   "version": "3.6.4"
  }
 },
 "nbformat": 4,
 "nbformat_minor": 2
}
